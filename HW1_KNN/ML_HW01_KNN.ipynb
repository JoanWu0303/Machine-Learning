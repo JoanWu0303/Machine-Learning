{
 "cells": [
  {
   "cell_type": "markdown",
   "id": "05729b6e",
   "metadata": {},
   "source": [
    "## 1. Loading Package "
   ]
  },
  {
   "cell_type": "code",
   "execution_count": 50,
   "id": "cca1a122",
   "metadata": {},
   "outputs": [],
   "source": [
    "#Basic import\n",
    "import pandas as pd\n",
    "import numpy as np\n",
    "from datetime import timedelta\n",
    "import pickle\n",
    "\n",
    "#Machine Learning\n",
    "from sklearn.neighbors import KNeighborsClassifier\n",
    "from sklearn.neighbors import NearestNeighbors\n",
    "from sklearn.preprocessing import StandardScaler\n",
    "from sklearn.model_selection import train_test_split\n",
    "from sklearn import metrics\n",
    "from sklearn.metrics import classification_report, accuracy_score"
   ]
  },
  {
   "cell_type": "markdown",
   "id": "022e7467",
   "metadata": {},
   "source": [
    "## 2. Data Loading"
   ]
  },
  {
   "cell_type": "code",
   "execution_count": 51,
   "id": "054d7887",
   "metadata": {},
   "outputs": [],
   "source": [
    "#Import data_mnist\n",
    "data = pd.read_csv (r'/Users/joan/Desktop/Spring2022/Machine Learning 6364/HW1/data_mnist.csv')\n",
    "\n",
    "#Import test_mnist\n",
    "test= pd.read_csv(r'/Users/joan/Desktop/Spring2022/Machine Learning 6364/HW1/test_mnist.csv')"
   ]
  },
  {
   "cell_type": "markdown",
   "id": "73fe86c8",
   "metadata": {},
   "source": [
    "###### Check the data import successfully or not"
   ]
  },
  {
   "cell_type": "code",
   "execution_count": 52,
   "id": "b78375fa",
   "metadata": {},
   "outputs": [
    {
     "data": {
      "text/html": [
       "<div>\n",
       "<style scoped>\n",
       "    .dataframe tbody tr th:only-of-type {\n",
       "        vertical-align: middle;\n",
       "    }\n",
       "\n",
       "    .dataframe tbody tr th {\n",
       "        vertical-align: top;\n",
       "    }\n",
       "\n",
       "    .dataframe thead th {\n",
       "        text-align: right;\n",
       "    }\n",
       "</style>\n",
       "<table border=\"1\" class=\"dataframe\">\n",
       "  <thead>\n",
       "    <tr style=\"text-align: right;\">\n",
       "      <th></th>\n",
       "      <th>label</th>\n",
       "      <th>pixel0</th>\n",
       "      <th>pixel1</th>\n",
       "      <th>pixel2</th>\n",
       "      <th>pixel3</th>\n",
       "      <th>pixel4</th>\n",
       "      <th>pixel5</th>\n",
       "      <th>pixel6</th>\n",
       "      <th>pixel7</th>\n",
       "      <th>pixel8</th>\n",
       "      <th>...</th>\n",
       "      <th>pixel774</th>\n",
       "      <th>pixel775</th>\n",
       "      <th>pixel776</th>\n",
       "      <th>pixel777</th>\n",
       "      <th>pixel778</th>\n",
       "      <th>pixel779</th>\n",
       "      <th>pixel780</th>\n",
       "      <th>pixel781</th>\n",
       "      <th>pixel782</th>\n",
       "      <th>pixel783</th>\n",
       "    </tr>\n",
       "  </thead>\n",
       "  <tbody>\n",
       "    <tr>\n",
       "      <th>0</th>\n",
       "      <td>1</td>\n",
       "      <td>0</td>\n",
       "      <td>0</td>\n",
       "      <td>0</td>\n",
       "      <td>0</td>\n",
       "      <td>0</td>\n",
       "      <td>0</td>\n",
       "      <td>0</td>\n",
       "      <td>0</td>\n",
       "      <td>0</td>\n",
       "      <td>...</td>\n",
       "      <td>0</td>\n",
       "      <td>0</td>\n",
       "      <td>0</td>\n",
       "      <td>0</td>\n",
       "      <td>0</td>\n",
       "      <td>0</td>\n",
       "      <td>0</td>\n",
       "      <td>0</td>\n",
       "      <td>0</td>\n",
       "      <td>0</td>\n",
       "    </tr>\n",
       "    <tr>\n",
       "      <th>1</th>\n",
       "      <td>0</td>\n",
       "      <td>0</td>\n",
       "      <td>0</td>\n",
       "      <td>0</td>\n",
       "      <td>0</td>\n",
       "      <td>0</td>\n",
       "      <td>0</td>\n",
       "      <td>0</td>\n",
       "      <td>0</td>\n",
       "      <td>0</td>\n",
       "      <td>...</td>\n",
       "      <td>0</td>\n",
       "      <td>0</td>\n",
       "      <td>0</td>\n",
       "      <td>0</td>\n",
       "      <td>0</td>\n",
       "      <td>0</td>\n",
       "      <td>0</td>\n",
       "      <td>0</td>\n",
       "      <td>0</td>\n",
       "      <td>0</td>\n",
       "    </tr>\n",
       "    <tr>\n",
       "      <th>2</th>\n",
       "      <td>1</td>\n",
       "      <td>0</td>\n",
       "      <td>0</td>\n",
       "      <td>0</td>\n",
       "      <td>0</td>\n",
       "      <td>0</td>\n",
       "      <td>0</td>\n",
       "      <td>0</td>\n",
       "      <td>0</td>\n",
       "      <td>0</td>\n",
       "      <td>...</td>\n",
       "      <td>0</td>\n",
       "      <td>0</td>\n",
       "      <td>0</td>\n",
       "      <td>0</td>\n",
       "      <td>0</td>\n",
       "      <td>0</td>\n",
       "      <td>0</td>\n",
       "      <td>0</td>\n",
       "      <td>0</td>\n",
       "      <td>0</td>\n",
       "    </tr>\n",
       "    <tr>\n",
       "      <th>3</th>\n",
       "      <td>4</td>\n",
       "      <td>0</td>\n",
       "      <td>0</td>\n",
       "      <td>0</td>\n",
       "      <td>0</td>\n",
       "      <td>0</td>\n",
       "      <td>0</td>\n",
       "      <td>0</td>\n",
       "      <td>0</td>\n",
       "      <td>0</td>\n",
       "      <td>...</td>\n",
       "      <td>0</td>\n",
       "      <td>0</td>\n",
       "      <td>0</td>\n",
       "      <td>0</td>\n",
       "      <td>0</td>\n",
       "      <td>0</td>\n",
       "      <td>0</td>\n",
       "      <td>0</td>\n",
       "      <td>0</td>\n",
       "      <td>0</td>\n",
       "    </tr>\n",
       "    <tr>\n",
       "      <th>4</th>\n",
       "      <td>0</td>\n",
       "      <td>0</td>\n",
       "      <td>0</td>\n",
       "      <td>0</td>\n",
       "      <td>0</td>\n",
       "      <td>0</td>\n",
       "      <td>0</td>\n",
       "      <td>0</td>\n",
       "      <td>0</td>\n",
       "      <td>0</td>\n",
       "      <td>...</td>\n",
       "      <td>0</td>\n",
       "      <td>0</td>\n",
       "      <td>0</td>\n",
       "      <td>0</td>\n",
       "      <td>0</td>\n",
       "      <td>0</td>\n",
       "      <td>0</td>\n",
       "      <td>0</td>\n",
       "      <td>0</td>\n",
       "      <td>0</td>\n",
       "    </tr>\n",
       "  </tbody>\n",
       "</table>\n",
       "<p>5 rows × 785 columns</p>\n",
       "</div>"
      ],
      "text/plain": [
       "   label  pixel0  pixel1  pixel2  pixel3  pixel4  pixel5  pixel6  pixel7  \\\n",
       "0      1       0       0       0       0       0       0       0       0   \n",
       "1      0       0       0       0       0       0       0       0       0   \n",
       "2      1       0       0       0       0       0       0       0       0   \n",
       "3      4       0       0       0       0       0       0       0       0   \n",
       "4      0       0       0       0       0       0       0       0       0   \n",
       "\n",
       "   pixel8  ...  pixel774  pixel775  pixel776  pixel777  pixel778  pixel779  \\\n",
       "0       0  ...         0         0         0         0         0         0   \n",
       "1       0  ...         0         0         0         0         0         0   \n",
       "2       0  ...         0         0         0         0         0         0   \n",
       "3       0  ...         0         0         0         0         0         0   \n",
       "4       0  ...         0         0         0         0         0         0   \n",
       "\n",
       "   pixel780  pixel781  pixel782  pixel783  \n",
       "0         0         0         0         0  \n",
       "1         0         0         0         0  \n",
       "2         0         0         0         0  \n",
       "3         0         0         0         0  \n",
       "4         0         0         0         0  \n",
       "\n",
       "[5 rows x 785 columns]"
      ]
     },
     "execution_count": 52,
     "metadata": {},
     "output_type": "execute_result"
    }
   ],
   "source": [
    "data.head(5)\n",
    "#.head(means from the index0 to index5)\n",
    "#.tail(means the last number)"
   ]
  },
  {
   "cell_type": "code",
   "execution_count": 53,
   "id": "2e68d305",
   "metadata": {},
   "outputs": [
    {
     "data": {
      "text/html": [
       "<div>\n",
       "<style scoped>\n",
       "    .dataframe tbody tr th:only-of-type {\n",
       "        vertical-align: middle;\n",
       "    }\n",
       "\n",
       "    .dataframe tbody tr th {\n",
       "        vertical-align: top;\n",
       "    }\n",
       "\n",
       "    .dataframe thead th {\n",
       "        text-align: right;\n",
       "    }\n",
       "</style>\n",
       "<table border=\"1\" class=\"dataframe\">\n",
       "  <thead>\n",
       "    <tr style=\"text-align: right;\">\n",
       "      <th></th>\n",
       "      <th>pixel0</th>\n",
       "      <th>pixel1</th>\n",
       "      <th>pixel2</th>\n",
       "      <th>pixel3</th>\n",
       "      <th>pixel4</th>\n",
       "      <th>pixel5</th>\n",
       "      <th>pixel6</th>\n",
       "      <th>pixel7</th>\n",
       "      <th>pixel8</th>\n",
       "      <th>pixel9</th>\n",
       "      <th>...</th>\n",
       "      <th>pixel774</th>\n",
       "      <th>pixel775</th>\n",
       "      <th>pixel776</th>\n",
       "      <th>pixel777</th>\n",
       "      <th>pixel778</th>\n",
       "      <th>pixel779</th>\n",
       "      <th>pixel780</th>\n",
       "      <th>pixel781</th>\n",
       "      <th>pixel782</th>\n",
       "      <th>pixel783</th>\n",
       "    </tr>\n",
       "  </thead>\n",
       "  <tbody>\n",
       "    <tr>\n",
       "      <th>0</th>\n",
       "      <td>0</td>\n",
       "      <td>0</td>\n",
       "      <td>0</td>\n",
       "      <td>0</td>\n",
       "      <td>0</td>\n",
       "      <td>0</td>\n",
       "      <td>0</td>\n",
       "      <td>0</td>\n",
       "      <td>0</td>\n",
       "      <td>0</td>\n",
       "      <td>...</td>\n",
       "      <td>0</td>\n",
       "      <td>0</td>\n",
       "      <td>0</td>\n",
       "      <td>0</td>\n",
       "      <td>0</td>\n",
       "      <td>0</td>\n",
       "      <td>0</td>\n",
       "      <td>0</td>\n",
       "      <td>0</td>\n",
       "      <td>0</td>\n",
       "    </tr>\n",
       "    <tr>\n",
       "      <th>1</th>\n",
       "      <td>0</td>\n",
       "      <td>0</td>\n",
       "      <td>0</td>\n",
       "      <td>0</td>\n",
       "      <td>0</td>\n",
       "      <td>0</td>\n",
       "      <td>0</td>\n",
       "      <td>0</td>\n",
       "      <td>0</td>\n",
       "      <td>0</td>\n",
       "      <td>...</td>\n",
       "      <td>0</td>\n",
       "      <td>0</td>\n",
       "      <td>0</td>\n",
       "      <td>0</td>\n",
       "      <td>0</td>\n",
       "      <td>0</td>\n",
       "      <td>0</td>\n",
       "      <td>0</td>\n",
       "      <td>0</td>\n",
       "      <td>0</td>\n",
       "    </tr>\n",
       "    <tr>\n",
       "      <th>2</th>\n",
       "      <td>0</td>\n",
       "      <td>0</td>\n",
       "      <td>0</td>\n",
       "      <td>0</td>\n",
       "      <td>0</td>\n",
       "      <td>0</td>\n",
       "      <td>0</td>\n",
       "      <td>0</td>\n",
       "      <td>0</td>\n",
       "      <td>0</td>\n",
       "      <td>...</td>\n",
       "      <td>0</td>\n",
       "      <td>0</td>\n",
       "      <td>0</td>\n",
       "      <td>0</td>\n",
       "      <td>0</td>\n",
       "      <td>0</td>\n",
       "      <td>0</td>\n",
       "      <td>0</td>\n",
       "      <td>0</td>\n",
       "      <td>0</td>\n",
       "    </tr>\n",
       "    <tr>\n",
       "      <th>3</th>\n",
       "      <td>0</td>\n",
       "      <td>0</td>\n",
       "      <td>0</td>\n",
       "      <td>0</td>\n",
       "      <td>0</td>\n",
       "      <td>0</td>\n",
       "      <td>0</td>\n",
       "      <td>0</td>\n",
       "      <td>0</td>\n",
       "      <td>0</td>\n",
       "      <td>...</td>\n",
       "      <td>0</td>\n",
       "      <td>0</td>\n",
       "      <td>0</td>\n",
       "      <td>0</td>\n",
       "      <td>0</td>\n",
       "      <td>0</td>\n",
       "      <td>0</td>\n",
       "      <td>0</td>\n",
       "      <td>0</td>\n",
       "      <td>0</td>\n",
       "    </tr>\n",
       "    <tr>\n",
       "      <th>4</th>\n",
       "      <td>0</td>\n",
       "      <td>0</td>\n",
       "      <td>0</td>\n",
       "      <td>0</td>\n",
       "      <td>0</td>\n",
       "      <td>0</td>\n",
       "      <td>0</td>\n",
       "      <td>0</td>\n",
       "      <td>0</td>\n",
       "      <td>0</td>\n",
       "      <td>...</td>\n",
       "      <td>0</td>\n",
       "      <td>0</td>\n",
       "      <td>0</td>\n",
       "      <td>0</td>\n",
       "      <td>0</td>\n",
       "      <td>0</td>\n",
       "      <td>0</td>\n",
       "      <td>0</td>\n",
       "      <td>0</td>\n",
       "      <td>0</td>\n",
       "    </tr>\n",
       "    <tr>\n",
       "      <th>5</th>\n",
       "      <td>0</td>\n",
       "      <td>0</td>\n",
       "      <td>0</td>\n",
       "      <td>0</td>\n",
       "      <td>0</td>\n",
       "      <td>0</td>\n",
       "      <td>0</td>\n",
       "      <td>0</td>\n",
       "      <td>0</td>\n",
       "      <td>0</td>\n",
       "      <td>...</td>\n",
       "      <td>0</td>\n",
       "      <td>0</td>\n",
       "      <td>0</td>\n",
       "      <td>0</td>\n",
       "      <td>0</td>\n",
       "      <td>0</td>\n",
       "      <td>0</td>\n",
       "      <td>0</td>\n",
       "      <td>0</td>\n",
       "      <td>0</td>\n",
       "    </tr>\n",
       "    <tr>\n",
       "      <th>6</th>\n",
       "      <td>0</td>\n",
       "      <td>0</td>\n",
       "      <td>0</td>\n",
       "      <td>0</td>\n",
       "      <td>0</td>\n",
       "      <td>0</td>\n",
       "      <td>0</td>\n",
       "      <td>0</td>\n",
       "      <td>0</td>\n",
       "      <td>0</td>\n",
       "      <td>...</td>\n",
       "      <td>0</td>\n",
       "      <td>0</td>\n",
       "      <td>0</td>\n",
       "      <td>0</td>\n",
       "      <td>0</td>\n",
       "      <td>0</td>\n",
       "      <td>0</td>\n",
       "      <td>0</td>\n",
       "      <td>0</td>\n",
       "      <td>0</td>\n",
       "    </tr>\n",
       "    <tr>\n",
       "      <th>7</th>\n",
       "      <td>0</td>\n",
       "      <td>0</td>\n",
       "      <td>0</td>\n",
       "      <td>0</td>\n",
       "      <td>0</td>\n",
       "      <td>0</td>\n",
       "      <td>0</td>\n",
       "      <td>0</td>\n",
       "      <td>0</td>\n",
       "      <td>0</td>\n",
       "      <td>...</td>\n",
       "      <td>0</td>\n",
       "      <td>0</td>\n",
       "      <td>0</td>\n",
       "      <td>0</td>\n",
       "      <td>0</td>\n",
       "      <td>0</td>\n",
       "      <td>0</td>\n",
       "      <td>0</td>\n",
       "      <td>0</td>\n",
       "      <td>0</td>\n",
       "    </tr>\n",
       "    <tr>\n",
       "      <th>8</th>\n",
       "      <td>0</td>\n",
       "      <td>0</td>\n",
       "      <td>0</td>\n",
       "      <td>0</td>\n",
       "      <td>0</td>\n",
       "      <td>0</td>\n",
       "      <td>0</td>\n",
       "      <td>0</td>\n",
       "      <td>0</td>\n",
       "      <td>0</td>\n",
       "      <td>...</td>\n",
       "      <td>0</td>\n",
       "      <td>0</td>\n",
       "      <td>0</td>\n",
       "      <td>0</td>\n",
       "      <td>0</td>\n",
       "      <td>0</td>\n",
       "      <td>0</td>\n",
       "      <td>0</td>\n",
       "      <td>0</td>\n",
       "      <td>0</td>\n",
       "    </tr>\n",
       "    <tr>\n",
       "      <th>9</th>\n",
       "      <td>0</td>\n",
       "      <td>0</td>\n",
       "      <td>0</td>\n",
       "      <td>0</td>\n",
       "      <td>0</td>\n",
       "      <td>0</td>\n",
       "      <td>0</td>\n",
       "      <td>0</td>\n",
       "      <td>0</td>\n",
       "      <td>0</td>\n",
       "      <td>...</td>\n",
       "      <td>0</td>\n",
       "      <td>0</td>\n",
       "      <td>0</td>\n",
       "      <td>0</td>\n",
       "      <td>0</td>\n",
       "      <td>0</td>\n",
       "      <td>0</td>\n",
       "      <td>0</td>\n",
       "      <td>0</td>\n",
       "      <td>0</td>\n",
       "    </tr>\n",
       "  </tbody>\n",
       "</table>\n",
       "<p>10 rows × 784 columns</p>\n",
       "</div>"
      ],
      "text/plain": [
       "   pixel0  pixel1  pixel2  pixel3  pixel4  pixel5  pixel6  pixel7  pixel8  \\\n",
       "0       0       0       0       0       0       0       0       0       0   \n",
       "1       0       0       0       0       0       0       0       0       0   \n",
       "2       0       0       0       0       0       0       0       0       0   \n",
       "3       0       0       0       0       0       0       0       0       0   \n",
       "4       0       0       0       0       0       0       0       0       0   \n",
       "5       0       0       0       0       0       0       0       0       0   \n",
       "6       0       0       0       0       0       0       0       0       0   \n",
       "7       0       0       0       0       0       0       0       0       0   \n",
       "8       0       0       0       0       0       0       0       0       0   \n",
       "9       0       0       0       0       0       0       0       0       0   \n",
       "\n",
       "   pixel9  ...  pixel774  pixel775  pixel776  pixel777  pixel778  pixel779  \\\n",
       "0       0  ...         0         0         0         0         0         0   \n",
       "1       0  ...         0         0         0         0         0         0   \n",
       "2       0  ...         0         0         0         0         0         0   \n",
       "3       0  ...         0         0         0         0         0         0   \n",
       "4       0  ...         0         0         0         0         0         0   \n",
       "5       0  ...         0         0         0         0         0         0   \n",
       "6       0  ...         0         0         0         0         0         0   \n",
       "7       0  ...         0         0         0         0         0         0   \n",
       "8       0  ...         0         0         0         0         0         0   \n",
       "9       0  ...         0         0         0         0         0         0   \n",
       "\n",
       "   pixel780  pixel781  pixel782  pixel783  \n",
       "0         0         0         0         0  \n",
       "1         0         0         0         0  \n",
       "2         0         0         0         0  \n",
       "3         0         0         0         0  \n",
       "4         0         0         0         0  \n",
       "5         0         0         0         0  \n",
       "6         0         0         0         0  \n",
       "7         0         0         0         0  \n",
       "8         0         0         0         0  \n",
       "9         0         0         0         0  \n",
       "\n",
       "[10 rows x 784 columns]"
      ]
     },
     "execution_count": 53,
     "metadata": {},
     "output_type": "execute_result"
    }
   ],
   "source": [
    "test.head(10)"
   ]
  },
  {
   "cell_type": "markdown",
   "id": "36f487e7",
   "metadata": {},
   "source": [
    "###### 784 columns because doesn't contain label"
   ]
  },
  {
   "cell_type": "markdown",
   "id": "25b78736",
   "metadata": {},
   "source": [
    "## 3. Data Convert and Preprocess "
   ]
  },
  {
   "cell_type": "markdown",
   "id": "74114f2c",
   "metadata": {},
   "source": [
    "###### 3.1 Convert the dataframe into array (matrix)"
   ]
  },
  {
   "cell_type": "code",
   "execution_count": 54,
   "id": "ccc63a54",
   "metadata": {},
   "outputs": [],
   "source": [
    "data_matrix=np.array(data)"
   ]
  },
  {
   "cell_type": "markdown",
   "id": "a6acb447",
   "metadata": {},
   "source": [
    "###### 3.2 Split the data into X(features) and Y(target)"
   ]
  },
  {
   "cell_type": "code",
   "execution_count": 55,
   "id": "21459233",
   "metadata": {},
   "outputs": [],
   "source": [
    "#matrix name[row, column]\n",
    "X=data_matrix[:,1:]\n",
    "Y=data_matrix[:,0]"
   ]
  },
  {
   "cell_type": "markdown",
   "id": "a6d093ab",
   "metadata": {},
   "source": [
    "###### 3.3 Split data into two sets: (1) Train data set (2) Test data set  {Train-Test split algorithms}"
   ]
  },
  {
   "cell_type": "code",
   "execution_count": 56,
   "id": "cd4afc9d",
   "metadata": {},
   "outputs": [],
   "source": [
    "#Both of theses two sets are from data_mnist, and Test data set is use for \"evaluating\" the model's accuracy.\n",
    "X_train,X_test,Y_train,Y_test = train_test_split(X,Y,test_size=0.25,random_state=42, stratify=Y)"
   ]
  },
  {
   "cell_type": "markdown",
   "id": "49df90b2",
   "metadata": {},
   "source": [
    "###### 3.4 Data Preprocessing- StandardScaler"
   ]
  },
  {
   "cell_type": "code",
   "execution_count": 57,
   "id": "0b4f39e6",
   "metadata": {},
   "outputs": [],
   "source": [
    "sc_X = StandardScaler()\n",
    "\n",
    "sc_X.fit(X_train)\n",
    "X_train_std=sc_X.transform(X_train)\n",
    "X_test_std=sc_X.transform(X_test)"
   ]
  },
  {
   "cell_type": "markdown",
   "id": "371d8b1a",
   "metadata": {},
   "source": [
    "After preprocessing, we are going to find the best K values to use the model to predict the test file."
   ]
  },
  {
   "cell_type": "markdown",
   "id": "f3919e40",
   "metadata": {},
   "source": [
    "## 4. Model- Find the Best K Values"
   ]
  },
  {
   "cell_type": "markdown",
   "id": "a17bb29f",
   "metadata": {},
   "source": [
    "We will going to test the K values from 2 to 5 to see which values have the higher accuracy and store that model."
   ]
  },
  {
   "cell_type": "markdown",
   "id": "62b670c6",
   "metadata": {},
   "source": [
    "##### When n_neighbor=2"
   ]
  },
  {
   "cell_type": "code",
   "execution_count": 58,
   "id": "e27ffa0e",
   "metadata": {},
   "outputs": [],
   "source": [
    "#perform training\n",
    "#creating the classifier object\n",
    "clf_2=KNeighborsClassifier(n_neighbors=2)\n",
    "\n",
    "#performing training\n",
    "clf_2.fit(X_train_std, Y_train)\n",
    "\n",
    "#predict X_test's target\n",
    "Y_pred=clf_2.predict(X_test_std)"
   ]
  },
  {
   "cell_type": "code",
   "execution_count": 59,
   "id": "511d90ea",
   "metadata": {},
   "outputs": [
    {
     "name": "stdout",
     "output_type": "stream",
     "text": [
      "Classification Report:\n",
      "              precision    recall  f1-score   support\n",
      "\n",
      "           0       0.93      0.99      0.96      1033\n",
      "           1       0.93      1.00      0.96      1171\n",
      "           2       0.91      0.94      0.93      1044\n",
      "           3       0.89      0.94      0.91      1088\n",
      "           4       0.90      0.94      0.92      1018\n",
      "           5       0.90      0.89      0.90       949\n",
      "           6       0.97      0.95      0.96      1034\n",
      "           7       0.91      0.93      0.92      1100\n",
      "           8       0.98      0.82      0.89      1016\n",
      "           9       0.94      0.85      0.89      1047\n",
      "\n",
      "    accuracy                           0.93     10500\n",
      "   macro avg       0.93      0.92      0.92     10500\n",
      "weighted avg       0.93      0.93      0.92     10500\n",
      "\n",
      "When K=2,the acuracy is 92.54285714285714\n"
     ]
    }
   ],
   "source": [
    "#Classification Report\n",
    "print(\"Classification Report:\")\n",
    "print(classification_report(Y_test, Y_pred))\n",
    "\n",
    "#Acuracy\n",
    "print('When K=2,the acuracy is', accuracy_score(Y_test, Y_pred)*100)"
   ]
  },
  {
   "cell_type": "markdown",
   "id": "732c6253",
   "metadata": {},
   "source": [
    "##### When n_neighbor=3"
   ]
  },
  {
   "cell_type": "code",
   "execution_count": 60,
   "id": "6ce622b1",
   "metadata": {},
   "outputs": [],
   "source": [
    "#Perform training\n",
    "#Creating the classifier object\n",
    "clf_3=KNeighborsClassifier(n_neighbors=3,weights=\"distance\")\n",
    "\n",
    "#performing training\n",
    "clf_3.fit(X_train_std, Y_train)\n",
    "\n",
    "#predict X_test's target\n",
    "Y_pred=clf_3.predict(X_test_std)"
   ]
  },
  {
   "cell_type": "code",
   "execution_count": 61,
   "id": "c6dbee2c",
   "metadata": {},
   "outputs": [
    {
     "name": "stdout",
     "output_type": "stream",
     "text": [
      "Classification Report:\n",
      "              precision    recall  f1-score   support\n",
      "\n",
      "           0       0.96      0.98      0.97      1033\n",
      "           1       0.95      0.99      0.97      1171\n",
      "           2       0.95      0.94      0.94      1044\n",
      "           3       0.91      0.93      0.92      1088\n",
      "           4       0.95      0.92      0.93      1018\n",
      "           5       0.92      0.91      0.92       949\n",
      "           6       0.95      0.98      0.96      1034\n",
      "           7       0.93      0.93      0.93      1100\n",
      "           8       0.97      0.87      0.92      1016\n",
      "           9       0.90      0.93      0.92      1047\n",
      "\n",
      "    accuracy                           0.94     10500\n",
      "   macro avg       0.94      0.94      0.94     10500\n",
      "weighted avg       0.94      0.94      0.94     10500\n",
      "\n",
      "When K=3,the acuracy is 93.93333333333334\n"
     ]
    }
   ],
   "source": [
    "#Classification Report\n",
    "print(\"Classification Report:\")\n",
    "print(classification_report(Y_test, Y_pred))\n",
    "\n",
    "#Acuracy\n",
    "print('When K=3,the acuracy is', accuracy_score(Y_test, Y_pred)*100)"
   ]
  },
  {
   "cell_type": "markdown",
   "id": "2abb84cc",
   "metadata": {},
   "source": [
    "##### When n_neighbor=4"
   ]
  },
  {
   "cell_type": "code",
   "execution_count": 62,
   "id": "4176fc78",
   "metadata": {},
   "outputs": [],
   "source": [
    "#perform training\n",
    "#creating the classifier object\n",
    "clf_4=KNeighborsClassifier(n_neighbors=4)\n",
    "\n",
    "#performing training\n",
    "clf_4.fit(X_train_std, Y_train)\n",
    "\n",
    "#predict X_test's target\n",
    "Y_pred=clf_4.predict(X_test_std)"
   ]
  },
  {
   "cell_type": "code",
   "execution_count": 63,
   "id": "146d45f1",
   "metadata": {},
   "outputs": [
    {
     "name": "stdout",
     "output_type": "stream",
     "text": [
      "Classification Report:\n",
      "              precision    recall  f1-score   support\n",
      "\n",
      "           0       0.94      0.98      0.96      1033\n",
      "           1       0.94      0.99      0.97      1171\n",
      "           2       0.93      0.94      0.94      1044\n",
      "           3       0.92      0.93      0.93      1088\n",
      "           4       0.93      0.94      0.93      1018\n",
      "           5       0.91      0.90      0.91       949\n",
      "           6       0.96      0.96      0.96      1034\n",
      "           7       0.92      0.94      0.93      1100\n",
      "           8       0.98      0.85      0.91      1016\n",
      "           9       0.92      0.90      0.91      1047\n",
      "\n",
      "    accuracy                           0.94     10500\n",
      "   macro avg       0.94      0.93      0.93     10500\n",
      "weighted avg       0.94      0.94      0.93     10500\n",
      "\n",
      "When K=4,the acuracy is 93.53333333333333\n"
     ]
    }
   ],
   "source": [
    "#Classification Report\n",
    "print(\"Classification Report:\")\n",
    "print(classification_report(Y_test, Y_pred))\n",
    "\n",
    "#Acuracy\n",
    "print('When K=4,the acuracy is', accuracy_score(Y_test, Y_pred)*100)"
   ]
  },
  {
   "cell_type": "markdown",
   "id": "e1cd850b",
   "metadata": {},
   "source": [
    "##### When n_neighbor=5"
   ]
  },
  {
   "cell_type": "code",
   "execution_count": 64,
   "id": "1be346c6",
   "metadata": {},
   "outputs": [],
   "source": [
    "#perform training\n",
    "#creating the classifier object\n",
    "clf_5=KNeighborsClassifier(n_neighbors=5)\n",
    "\n",
    "#performing training\n",
    "clf_5.fit(X_train_std, Y_train)\n",
    "\n",
    "#predict X_test's target\n",
    "Y_pred=clf_5.predict(X_test_std)"
   ]
  },
  {
   "cell_type": "code",
   "execution_count": 65,
   "id": "778575fb",
   "metadata": {},
   "outputs": [
    {
     "name": "stdout",
     "output_type": "stream",
     "text": [
      "Classification Report:\n",
      "              precision    recall  f1-score   support\n",
      "\n",
      "           0       0.95      0.98      0.96      1033\n",
      "           1       0.94      0.99      0.96      1171\n",
      "           2       0.94      0.93      0.94      1044\n",
      "           3       0.92      0.93      0.93      1088\n",
      "           4       0.94      0.92      0.93      1018\n",
      "           5       0.91      0.91      0.91       949\n",
      "           6       0.96      0.97      0.96      1034\n",
      "           7       0.93      0.93      0.93      1100\n",
      "           8       0.97      0.86      0.91      1016\n",
      "           9       0.90      0.92      0.91      1047\n",
      "\n",
      "    accuracy                           0.94     10500\n",
      "   macro avg       0.94      0.93      0.93     10500\n",
      "weighted avg       0.94      0.94      0.94     10500\n",
      "\n",
      "When K=5,the acuracy is 93.58095238095238\n"
     ]
    }
   ],
   "source": [
    "#Classification Report\n",
    "print(\"Classification Report:\")\n",
    "print(classification_report(Y_test, Y_pred))\n",
    "\n",
    "#Acuracy\n",
    "print('When K=5,the acuracy is', accuracy_score(Y_test, Y_pred)*100)"
   ]
  },
  {
   "cell_type": "markdown",
   "id": "04566e0a",
   "metadata": {},
   "source": [
    "After testing the K value from 2 to 5, we can tell that when k=3 has the higher accuracy which equals to 93.93%. Therefore, we will store the model when k=3 to predict the test file."
   ]
  },
  {
   "cell_type": "markdown",
   "id": "8eb21784",
   "metadata": {},
   "source": [
    "###### Store the Model when K=3"
   ]
  },
  {
   "cell_type": "code",
   "execution_count": 66,
   "id": "c81e6004",
   "metadata": {},
   "outputs": [],
   "source": [
    "pickle.dump(clf_3, open(\"Best_model\", \"wb\"))"
   ]
  },
  {
   "cell_type": "markdown",
   "id": "8499703a",
   "metadata": {},
   "source": [
    "## 5. Predict - Test.csv"
   ]
  },
  {
   "cell_type": "markdown",
   "id": "e81dabfd",
   "metadata": {},
   "source": [
    "###### 5.1 Load the Best_model"
   ]
  },
  {
   "cell_type": "code",
   "execution_count": 67,
   "id": "a7409e14",
   "metadata": {},
   "outputs": [],
   "source": [
    "KNN_Model=pickle.load(open(\"Best_model\", 'rb'))"
   ]
  },
  {
   "cell_type": "markdown",
   "id": "cd1fb6ef",
   "metadata": {},
   "source": [
    "###### 5.2 Convert the dataframe into array"
   ]
  },
  {
   "cell_type": "code",
   "execution_count": 68,
   "id": "d377d2c3",
   "metadata": {},
   "outputs": [],
   "source": [
    "test_matrix=np.array(test)"
   ]
  },
  {
   "cell_type": "markdown",
   "id": "f61bf7d0",
   "metadata": {},
   "source": [
    "###### 5.3 Predict "
   ]
  },
  {
   "cell_type": "code",
   "execution_count": 69,
   "id": "f8982703",
   "metadata": {},
   "outputs": [],
   "source": [
    "test_pred=KNN_Model.predict(test_matrix)"
   ]
  },
  {
   "cell_type": "markdown",
   "id": "05ad7a61",
   "metadata": {},
   "source": [
    "###### 5.4 Convert the array into dataframe"
   ]
  },
  {
   "cell_type": "code",
   "execution_count": 70,
   "id": "68e2f147",
   "metadata": {},
   "outputs": [],
   "source": [
    "pred_DF= pd.DataFrame({'ImageId':np.arange(len(test)),'Label':test_pred})"
   ]
  },
  {
   "cell_type": "code",
   "execution_count": 71,
   "id": "5d95c13f",
   "metadata": {},
   "outputs": [],
   "source": [
    "#Different way to visual: Insert the Label Column into the Test file\n",
    "test['Label'] = test_pred\n",
    "#print (test.head(5))"
   ]
  },
  {
   "cell_type": "markdown",
   "id": "d39daed1",
   "metadata": {},
   "source": [
    "## 6. Submission"
   ]
  },
  {
   "cell_type": "code",
   "execution_count": 72,
   "id": "d490ec77",
   "metadata": {},
   "outputs": [
    {
     "name": "stdout",
     "output_type": "stream",
     "text": [
      "The Final Result for the test file prediction:\n",
      "      ImageId  Label\n",
      "0           0      7\n",
      "1           1      2\n",
      "2           2      1\n",
      "3           3      0\n",
      "4           4      4\n",
      "...       ...    ...\n",
      "9995     9995      2\n",
      "9996     9996      3\n",
      "9997     9997      8\n",
      "9998     9998      5\n",
      "9999     9999      6\n",
      "\n",
      "[10000 rows x 2 columns]\n"
     ]
    }
   ],
   "source": [
    "print(\"The Final Result for the test file prediction:\")\n",
    "print(pred_DF)"
   ]
  },
  {
   "cell_type": "code",
   "execution_count": 73,
   "id": "a58d9858",
   "metadata": {},
   "outputs": [],
   "source": [
    "pred_DF.to_csv('hw1_submission.csv', index=False)"
   ]
  },
  {
   "cell_type": "code",
   "execution_count": null,
   "id": "1bfd60d7",
   "metadata": {},
   "outputs": [],
   "source": []
  }
 ],
 "metadata": {
  "kernelspec": {
   "display_name": "Python 3 (ipykernel)",
   "language": "python",
   "name": "python3"
  },
  "language_info": {
   "codemirror_mode": {
    "name": "ipython",
    "version": 3
   },
   "file_extension": ".py",
   "mimetype": "text/x-python",
   "name": "python",
   "nbconvert_exporter": "python",
   "pygments_lexer": "ipython3",
   "version": "3.9.7"
  }
 },
 "nbformat": 4,
 "nbformat_minor": 5
}
