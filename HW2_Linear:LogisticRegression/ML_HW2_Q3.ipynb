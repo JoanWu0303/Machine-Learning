{
 "cells": [
  {
   "cell_type": "markdown",
   "id": "4422d778",
   "metadata": {},
   "source": [
    "## 1. Loading Package"
   ]
  },
  {
   "cell_type": "code",
   "execution_count": 10,
   "id": "3ee45912",
   "metadata": {},
   "outputs": [],
   "source": [
    "#Basic import\n",
    "import pandas as pd\n",
    "import numpy as np\n",
    "import matplotlib.pyplot as plt \n",
    "import time\n",
    "import pickle\n",
    "from datetime import timedelta\n",
    "\n",
    "#Machine Learning\n",
    "from sklearn.preprocessing import StandardScaler\n",
    "from sklearn.linear_model import LogisticRegression\n",
    "from sklearn.model_selection import train_test_split\n",
    "from sklearn import metrics\n",
    "from sklearn.metrics import mean_squared_error, r2_score, mean_absolute_error,accuracy_score, classification_report, precision_score, recall_score"
   ]
  },
  {
   "cell_type": "markdown",
   "id": "86c898cb",
   "metadata": {},
   "source": [
    "## 2. Data Loading"
   ]
  },
  {
   "cell_type": "code",
   "execution_count": 2,
   "id": "79aa214e",
   "metadata": {},
   "outputs": [],
   "source": [
    "#Import data_mnist\n",
    "data = pd.read_csv (r'/Users/joan/Desktop/Spring2022/Machine Learning 6364/HW2/data_mnist.csv')\n",
    "\n",
    "#Import test_mnist\n",
    "test= pd.read_csv(r'/Users/joan/Desktop/Spring2022/Machine Learning 6364/HW2/test_mnist.csv')"
   ]
  },
  {
   "cell_type": "code",
   "execution_count": 3,
   "id": "fbfa1cea",
   "metadata": {
    "scrolled": true
   },
   "outputs": [
    {
     "data": {
      "text/html": [
       "<div>\n",
       "<style scoped>\n",
       "    .dataframe tbody tr th:only-of-type {\n",
       "        vertical-align: middle;\n",
       "    }\n",
       "\n",
       "    .dataframe tbody tr th {\n",
       "        vertical-align: top;\n",
       "    }\n",
       "\n",
       "    .dataframe thead th {\n",
       "        text-align: right;\n",
       "    }\n",
       "</style>\n",
       "<table border=\"1\" class=\"dataframe\">\n",
       "  <thead>\n",
       "    <tr style=\"text-align: right;\">\n",
       "      <th></th>\n",
       "      <th>label</th>\n",
       "      <th>pixel0</th>\n",
       "      <th>pixel1</th>\n",
       "      <th>pixel2</th>\n",
       "      <th>pixel3</th>\n",
       "      <th>pixel4</th>\n",
       "      <th>pixel5</th>\n",
       "      <th>pixel6</th>\n",
       "      <th>pixel7</th>\n",
       "      <th>pixel8</th>\n",
       "      <th>...</th>\n",
       "      <th>pixel774</th>\n",
       "      <th>pixel775</th>\n",
       "      <th>pixel776</th>\n",
       "      <th>pixel777</th>\n",
       "      <th>pixel778</th>\n",
       "      <th>pixel779</th>\n",
       "      <th>pixel780</th>\n",
       "      <th>pixel781</th>\n",
       "      <th>pixel782</th>\n",
       "      <th>pixel783</th>\n",
       "    </tr>\n",
       "  </thead>\n",
       "  <tbody>\n",
       "    <tr>\n",
       "      <th>0</th>\n",
       "      <td>1</td>\n",
       "      <td>0</td>\n",
       "      <td>0</td>\n",
       "      <td>0</td>\n",
       "      <td>0</td>\n",
       "      <td>0</td>\n",
       "      <td>0</td>\n",
       "      <td>0</td>\n",
       "      <td>0</td>\n",
       "      <td>0</td>\n",
       "      <td>...</td>\n",
       "      <td>0</td>\n",
       "      <td>0</td>\n",
       "      <td>0</td>\n",
       "      <td>0</td>\n",
       "      <td>0</td>\n",
       "      <td>0</td>\n",
       "      <td>0</td>\n",
       "      <td>0</td>\n",
       "      <td>0</td>\n",
       "      <td>0</td>\n",
       "    </tr>\n",
       "    <tr>\n",
       "      <th>1</th>\n",
       "      <td>0</td>\n",
       "      <td>0</td>\n",
       "      <td>0</td>\n",
       "      <td>0</td>\n",
       "      <td>0</td>\n",
       "      <td>0</td>\n",
       "      <td>0</td>\n",
       "      <td>0</td>\n",
       "      <td>0</td>\n",
       "      <td>0</td>\n",
       "      <td>...</td>\n",
       "      <td>0</td>\n",
       "      <td>0</td>\n",
       "      <td>0</td>\n",
       "      <td>0</td>\n",
       "      <td>0</td>\n",
       "      <td>0</td>\n",
       "      <td>0</td>\n",
       "      <td>0</td>\n",
       "      <td>0</td>\n",
       "      <td>0</td>\n",
       "    </tr>\n",
       "    <tr>\n",
       "      <th>2</th>\n",
       "      <td>1</td>\n",
       "      <td>0</td>\n",
       "      <td>0</td>\n",
       "      <td>0</td>\n",
       "      <td>0</td>\n",
       "      <td>0</td>\n",
       "      <td>0</td>\n",
       "      <td>0</td>\n",
       "      <td>0</td>\n",
       "      <td>0</td>\n",
       "      <td>...</td>\n",
       "      <td>0</td>\n",
       "      <td>0</td>\n",
       "      <td>0</td>\n",
       "      <td>0</td>\n",
       "      <td>0</td>\n",
       "      <td>0</td>\n",
       "      <td>0</td>\n",
       "      <td>0</td>\n",
       "      <td>0</td>\n",
       "      <td>0</td>\n",
       "    </tr>\n",
       "    <tr>\n",
       "      <th>3</th>\n",
       "      <td>4</td>\n",
       "      <td>0</td>\n",
       "      <td>0</td>\n",
       "      <td>0</td>\n",
       "      <td>0</td>\n",
       "      <td>0</td>\n",
       "      <td>0</td>\n",
       "      <td>0</td>\n",
       "      <td>0</td>\n",
       "      <td>0</td>\n",
       "      <td>...</td>\n",
       "      <td>0</td>\n",
       "      <td>0</td>\n",
       "      <td>0</td>\n",
       "      <td>0</td>\n",
       "      <td>0</td>\n",
       "      <td>0</td>\n",
       "      <td>0</td>\n",
       "      <td>0</td>\n",
       "      <td>0</td>\n",
       "      <td>0</td>\n",
       "    </tr>\n",
       "    <tr>\n",
       "      <th>4</th>\n",
       "      <td>0</td>\n",
       "      <td>0</td>\n",
       "      <td>0</td>\n",
       "      <td>0</td>\n",
       "      <td>0</td>\n",
       "      <td>0</td>\n",
       "      <td>0</td>\n",
       "      <td>0</td>\n",
       "      <td>0</td>\n",
       "      <td>0</td>\n",
       "      <td>...</td>\n",
       "      <td>0</td>\n",
       "      <td>0</td>\n",
       "      <td>0</td>\n",
       "      <td>0</td>\n",
       "      <td>0</td>\n",
       "      <td>0</td>\n",
       "      <td>0</td>\n",
       "      <td>0</td>\n",
       "      <td>0</td>\n",
       "      <td>0</td>\n",
       "    </tr>\n",
       "  </tbody>\n",
       "</table>\n",
       "<p>5 rows × 785 columns</p>\n",
       "</div>"
      ],
      "text/plain": [
       "   label  pixel0  pixel1  pixel2  pixel3  pixel4  pixel5  pixel6  pixel7  \\\n",
       "0      1       0       0       0       0       0       0       0       0   \n",
       "1      0       0       0       0       0       0       0       0       0   \n",
       "2      1       0       0       0       0       0       0       0       0   \n",
       "3      4       0       0       0       0       0       0       0       0   \n",
       "4      0       0       0       0       0       0       0       0       0   \n",
       "\n",
       "   pixel8  ...  pixel774  pixel775  pixel776  pixel777  pixel778  pixel779  \\\n",
       "0       0  ...         0         0         0         0         0         0   \n",
       "1       0  ...         0         0         0         0         0         0   \n",
       "2       0  ...         0         0         0         0         0         0   \n",
       "3       0  ...         0         0         0         0         0         0   \n",
       "4       0  ...         0         0         0         0         0         0   \n",
       "\n",
       "   pixel780  pixel781  pixel782  pixel783  \n",
       "0         0         0         0         0  \n",
       "1         0         0         0         0  \n",
       "2         0         0         0         0  \n",
       "3         0         0         0         0  \n",
       "4         0         0         0         0  \n",
       "\n",
       "[5 rows x 785 columns]"
      ]
     },
     "execution_count": 3,
     "metadata": {},
     "output_type": "execute_result"
    }
   ],
   "source": [
    "data.head()"
   ]
  },
  {
   "cell_type": "code",
   "execution_count": 4,
   "id": "04822a6a",
   "metadata": {},
   "outputs": [
    {
     "data": {
      "text/html": [
       "<div>\n",
       "<style scoped>\n",
       "    .dataframe tbody tr th:only-of-type {\n",
       "        vertical-align: middle;\n",
       "    }\n",
       "\n",
       "    .dataframe tbody tr th {\n",
       "        vertical-align: top;\n",
       "    }\n",
       "\n",
       "    .dataframe thead th {\n",
       "        text-align: right;\n",
       "    }\n",
       "</style>\n",
       "<table border=\"1\" class=\"dataframe\">\n",
       "  <thead>\n",
       "    <tr style=\"text-align: right;\">\n",
       "      <th></th>\n",
       "      <th>pixel0</th>\n",
       "      <th>pixel1</th>\n",
       "      <th>pixel2</th>\n",
       "      <th>pixel3</th>\n",
       "      <th>pixel4</th>\n",
       "      <th>pixel5</th>\n",
       "      <th>pixel6</th>\n",
       "      <th>pixel7</th>\n",
       "      <th>pixel8</th>\n",
       "      <th>pixel9</th>\n",
       "      <th>...</th>\n",
       "      <th>pixel774</th>\n",
       "      <th>pixel775</th>\n",
       "      <th>pixel776</th>\n",
       "      <th>pixel777</th>\n",
       "      <th>pixel778</th>\n",
       "      <th>pixel779</th>\n",
       "      <th>pixel780</th>\n",
       "      <th>pixel781</th>\n",
       "      <th>pixel782</th>\n",
       "      <th>pixel783</th>\n",
       "    </tr>\n",
       "  </thead>\n",
       "  <tbody>\n",
       "    <tr>\n",
       "      <th>0</th>\n",
       "      <td>0</td>\n",
       "      <td>0</td>\n",
       "      <td>0</td>\n",
       "      <td>0</td>\n",
       "      <td>0</td>\n",
       "      <td>0</td>\n",
       "      <td>0</td>\n",
       "      <td>0</td>\n",
       "      <td>0</td>\n",
       "      <td>0</td>\n",
       "      <td>...</td>\n",
       "      <td>0</td>\n",
       "      <td>0</td>\n",
       "      <td>0</td>\n",
       "      <td>0</td>\n",
       "      <td>0</td>\n",
       "      <td>0</td>\n",
       "      <td>0</td>\n",
       "      <td>0</td>\n",
       "      <td>0</td>\n",
       "      <td>0</td>\n",
       "    </tr>\n",
       "    <tr>\n",
       "      <th>1</th>\n",
       "      <td>0</td>\n",
       "      <td>0</td>\n",
       "      <td>0</td>\n",
       "      <td>0</td>\n",
       "      <td>0</td>\n",
       "      <td>0</td>\n",
       "      <td>0</td>\n",
       "      <td>0</td>\n",
       "      <td>0</td>\n",
       "      <td>0</td>\n",
       "      <td>...</td>\n",
       "      <td>0</td>\n",
       "      <td>0</td>\n",
       "      <td>0</td>\n",
       "      <td>0</td>\n",
       "      <td>0</td>\n",
       "      <td>0</td>\n",
       "      <td>0</td>\n",
       "      <td>0</td>\n",
       "      <td>0</td>\n",
       "      <td>0</td>\n",
       "    </tr>\n",
       "    <tr>\n",
       "      <th>2</th>\n",
       "      <td>0</td>\n",
       "      <td>0</td>\n",
       "      <td>0</td>\n",
       "      <td>0</td>\n",
       "      <td>0</td>\n",
       "      <td>0</td>\n",
       "      <td>0</td>\n",
       "      <td>0</td>\n",
       "      <td>0</td>\n",
       "      <td>0</td>\n",
       "      <td>...</td>\n",
       "      <td>0</td>\n",
       "      <td>0</td>\n",
       "      <td>0</td>\n",
       "      <td>0</td>\n",
       "      <td>0</td>\n",
       "      <td>0</td>\n",
       "      <td>0</td>\n",
       "      <td>0</td>\n",
       "      <td>0</td>\n",
       "      <td>0</td>\n",
       "    </tr>\n",
       "    <tr>\n",
       "      <th>3</th>\n",
       "      <td>0</td>\n",
       "      <td>0</td>\n",
       "      <td>0</td>\n",
       "      <td>0</td>\n",
       "      <td>0</td>\n",
       "      <td>0</td>\n",
       "      <td>0</td>\n",
       "      <td>0</td>\n",
       "      <td>0</td>\n",
       "      <td>0</td>\n",
       "      <td>...</td>\n",
       "      <td>0</td>\n",
       "      <td>0</td>\n",
       "      <td>0</td>\n",
       "      <td>0</td>\n",
       "      <td>0</td>\n",
       "      <td>0</td>\n",
       "      <td>0</td>\n",
       "      <td>0</td>\n",
       "      <td>0</td>\n",
       "      <td>0</td>\n",
       "    </tr>\n",
       "    <tr>\n",
       "      <th>4</th>\n",
       "      <td>0</td>\n",
       "      <td>0</td>\n",
       "      <td>0</td>\n",
       "      <td>0</td>\n",
       "      <td>0</td>\n",
       "      <td>0</td>\n",
       "      <td>0</td>\n",
       "      <td>0</td>\n",
       "      <td>0</td>\n",
       "      <td>0</td>\n",
       "      <td>...</td>\n",
       "      <td>0</td>\n",
       "      <td>0</td>\n",
       "      <td>0</td>\n",
       "      <td>0</td>\n",
       "      <td>0</td>\n",
       "      <td>0</td>\n",
       "      <td>0</td>\n",
       "      <td>0</td>\n",
       "      <td>0</td>\n",
       "      <td>0</td>\n",
       "    </tr>\n",
       "  </tbody>\n",
       "</table>\n",
       "<p>5 rows × 784 columns</p>\n",
       "</div>"
      ],
      "text/plain": [
       "   pixel0  pixel1  pixel2  pixel3  pixel4  pixel5  pixel6  pixel7  pixel8  \\\n",
       "0       0       0       0       0       0       0       0       0       0   \n",
       "1       0       0       0       0       0       0       0       0       0   \n",
       "2       0       0       0       0       0       0       0       0       0   \n",
       "3       0       0       0       0       0       0       0       0       0   \n",
       "4       0       0       0       0       0       0       0       0       0   \n",
       "\n",
       "   pixel9  ...  pixel774  pixel775  pixel776  pixel777  pixel778  pixel779  \\\n",
       "0       0  ...         0         0         0         0         0         0   \n",
       "1       0  ...         0         0         0         0         0         0   \n",
       "2       0  ...         0         0         0         0         0         0   \n",
       "3       0  ...         0         0         0         0         0         0   \n",
       "4       0  ...         0         0         0         0         0         0   \n",
       "\n",
       "   pixel780  pixel781  pixel782  pixel783  \n",
       "0         0         0         0         0  \n",
       "1         0         0         0         0  \n",
       "2         0         0         0         0  \n",
       "3         0         0         0         0  \n",
       "4         0         0         0         0  \n",
       "\n",
       "[5 rows x 784 columns]"
      ]
     },
     "execution_count": 4,
     "metadata": {},
     "output_type": "execute_result"
    }
   ],
   "source": [
    "test.head()"
   ]
  },
  {
   "cell_type": "markdown",
   "id": "b56829dc",
   "metadata": {},
   "source": [
    "## 3. Data Convert and Preprocess"
   ]
  },
  {
   "cell_type": "markdown",
   "id": "1a2cb22d",
   "metadata": {},
   "source": [
    "##### 3.1 Convert the dataframe into array (matrix)"
   ]
  },
  {
   "cell_type": "code",
   "execution_count": 5,
   "id": "bf39c1d4",
   "metadata": {},
   "outputs": [],
   "source": [
    "data_matrix=np.array(data)"
   ]
  },
  {
   "cell_type": "markdown",
   "id": "a27d0c84",
   "metadata": {},
   "source": [
    "##### 3.2 Split the data into X(features) and Y(target)"
   ]
  },
  {
   "cell_type": "code",
   "execution_count": 6,
   "id": "77afcc4d",
   "metadata": {},
   "outputs": [],
   "source": [
    "X=data_matrix[:,1:]\n",
    "Y=data_matrix[:,0]"
   ]
  },
  {
   "cell_type": "markdown",
   "id": "8f40b471",
   "metadata": {},
   "source": [
    "##### 3.3  Normalization"
   ]
  },
  {
   "cell_type": "code",
   "execution_count": 7,
   "id": "8e021416",
   "metadata": {},
   "outputs": [],
   "source": [
    "norm_X = X/ 255.0"
   ]
  },
  {
   "cell_type": "markdown",
   "id": "726fddf9",
   "metadata": {},
   "source": [
    "##### 3.4 Split data into two sets: (1) Train data set (2) Test data set {Train-Test split algorithms}"
   ]
  },
  {
   "cell_type": "code",
   "execution_count": 8,
   "id": "5147aa42",
   "metadata": {},
   "outputs": [],
   "source": [
    "#Both of theses two sets are from data_mnist.csv\n",
    "X_train,X_test,Y_train,Y_test = train_test_split(norm_X,Y,test_size=0.25,random_state=42, stratify=Y)"
   ]
  },
  {
   "cell_type": "markdown",
   "id": "2b3b28ce",
   "metadata": {},
   "source": [
    "## 4.Model Training"
   ]
  },
  {
   "cell_type": "markdown",
   "id": "916c19ef",
   "metadata": {},
   "source": [
    "##### 4.1 Train the model when solver =\"newton-cg\""
   ]
  },
  {
   "cell_type": "code",
   "execution_count": 11,
   "id": "6c4c6bdf",
   "metadata": {},
   "outputs": [
    {
     "name": "stdout",
     "output_type": "stream",
     "text": [
      "--- 0:00:36.411517 time elapsed ---\n"
     ]
    }
   ],
   "source": [
    "start_time = time.time()\n",
    "model_newton = LogisticRegression(solver ='newton-cg',penalty=\"l2\",max_iter= 3000)\n",
    "model_newton.fit(X_train,Y_train)\n",
    "\n",
    "print(\"--- %s time elapsed ---\" % str(timedelta(seconds=time.time() - start_time)))"
   ]
  },
  {
   "cell_type": "code",
   "execution_count": 12,
   "id": "2b09ee0d",
   "metadata": {},
   "outputs": [],
   "source": [
    "y_pred = model_newton.predict(X_test)"
   ]
  },
  {
   "cell_type": "code",
   "execution_count": 13,
   "id": "f50f9625",
   "metadata": {},
   "outputs": [],
   "source": [
    "class_report_newton = classification_report(Y_test, y_pred)\n",
    "accuracy_newton = accuracy_score(Y_test,y_pred)*100\n",
    "precision_newton = precision_score(Y_test,y_pred,average='micro')*100"
   ]
  },
  {
   "cell_type": "code",
   "execution_count": 14,
   "id": "5977e0c2",
   "metadata": {},
   "outputs": [
    {
     "name": "stdout",
     "output_type": "stream",
     "text": [
      "Logistic Model Evaluation- \"newton-cg\":\n",
      "\n",
      "              precision    recall  f1-score   support\n",
      "\n",
      "           0       0.96      0.95      0.96      1033\n",
      "           1       0.93      0.98      0.95      1171\n",
      "           2       0.91      0.90      0.91      1044\n",
      "           3       0.90      0.89      0.89      1088\n",
      "           4       0.92      0.92      0.92      1018\n",
      "           5       0.86      0.86      0.86       949\n",
      "           6       0.95      0.95      0.95      1034\n",
      "           7       0.93      0.93      0.93      1100\n",
      "           8       0.88      0.85      0.86      1016\n",
      "           9       0.88      0.89      0.89      1047\n",
      "\n",
      "    accuracy                           0.91     10500\n",
      "   macro avg       0.91      0.91      0.91     10500\n",
      "weighted avg       0.91      0.91      0.91     10500\n",
      "\n",
      "\n",
      "Model Score is 0.9469\n",
      "Accuracy is : 91.3333%\n",
      "Precision is : 91.3333%\n"
     ]
    }
   ],
   "source": [
    "print('Logistic Model Evaluation- \"newton-cg\":')\n",
    "print('')\n",
    "print(class_report_newton)\n",
    "print('')\n",
    "print(\"Model Score is %.4f\" % model_newton.score(X_train, Y_train))\n",
    "print(\"Accuracy is : {:.4f}%\".format(accuracy_newton) )\n",
    "print(\"Precision is : {:.4f}%\".format(precision_newton) )"
   ]
  },
  {
   "cell_type": "markdown",
   "id": "79560047",
   "metadata": {},
   "source": [
    "##### 4.2 Store the model_newton"
   ]
  },
  {
   "cell_type": "code",
   "execution_count": 15,
   "id": "df4ed349",
   "metadata": {},
   "outputs": [],
   "source": [
    "pickle.dump(model_newton, open(\"Model_newton\", \"wb\"))"
   ]
  },
  {
   "cell_type": "markdown",
   "id": "88a1eb95",
   "metadata": {},
   "source": [
    "##### 4.3 Train the model when solver = \"sag\""
   ]
  },
  {
   "cell_type": "code",
   "execution_count": 16,
   "id": "a9757dba",
   "metadata": {},
   "outputs": [
    {
     "name": "stdout",
     "output_type": "stream",
     "text": [
      "--- 0:03:51.834441 time elapsed ---\n"
     ]
    }
   ],
   "source": [
    "start_time = time.time()\n",
    "model_sag = LogisticRegression(solver ='sag',penalty=\"l2\",max_iter= 3000)\n",
    "model_sag.fit(X_train,Y_train)\n",
    "\n",
    "print(\"--- %s time elapsed ---\" % str(timedelta(seconds=time.time() - start_time)))"
   ]
  },
  {
   "cell_type": "code",
   "execution_count": 17,
   "id": "85add574",
   "metadata": {},
   "outputs": [],
   "source": [
    "y_pred = model_sag.predict(X_test)"
   ]
  },
  {
   "cell_type": "code",
   "execution_count": 18,
   "id": "b7e91082",
   "metadata": {},
   "outputs": [],
   "source": [
    "class_report_sag = classification_report(Y_test, y_pred)\n",
    "accuracy_sag = accuracy_score(Y_test,y_pred)*100\n",
    "precision_sag = precision_score(Y_test,y_pred,average='micro')*100"
   ]
  },
  {
   "cell_type": "code",
   "execution_count": 19,
   "id": "0d7c5b9c",
   "metadata": {},
   "outputs": [
    {
     "name": "stdout",
     "output_type": "stream",
     "text": [
      "Logistic Model Evaluation- \"sag\":\n",
      "\n",
      "              precision    recall  f1-score   support\n",
      "\n",
      "           0       0.96      0.95      0.96      1033\n",
      "           1       0.93      0.98      0.95      1171\n",
      "           2       0.91      0.90      0.91      1044\n",
      "           3       0.90      0.89      0.89      1088\n",
      "           4       0.92      0.92      0.92      1018\n",
      "           5       0.86      0.86      0.86       949\n",
      "           6       0.95      0.95      0.95      1034\n",
      "           7       0.93      0.93      0.93      1100\n",
      "           8       0.88      0.85      0.86      1016\n",
      "           9       0.88      0.89      0.89      1047\n",
      "\n",
      "    accuracy                           0.91     10500\n",
      "   macro avg       0.91      0.91      0.91     10500\n",
      "weighted avg       0.91      0.91      0.91     10500\n",
      "\n",
      "\n",
      "Model Score is 0.9469\n",
      "Accuracy is : 91.3333%\n",
      "Precision is : 91.3333%\n"
     ]
    }
   ],
   "source": [
    "print('Logistic Model Evaluation- \"sag\":')\n",
    "print('')\n",
    "print(class_report_sag)\n",
    "print('')\n",
    "print(\"Model Score is %.4f\" % model_sag.score(X_train, Y_train))\n",
    "print(\"Accuracy is : {:.4f}%\".format(accuracy_sag) )\n",
    "print(\"Precision is : {:.4f}%\".format(precision_sag) )"
   ]
  },
  {
   "cell_type": "markdown",
   "id": "7e0f3757",
   "metadata": {},
   "source": [
    "##### 4.4 Store the model_sag"
   ]
  },
  {
   "cell_type": "code",
   "execution_count": 20,
   "id": "fc6c6350",
   "metadata": {},
   "outputs": [],
   "source": [
    "pickle.dump(model_sag, open(\"Model_sag\", \"wb\"))"
   ]
  },
  {
   "cell_type": "markdown",
   "id": "ab68d649",
   "metadata": {},
   "source": [
    "##### 4.5 Train the model when solver =\"saga\"¶"
   ]
  },
  {
   "cell_type": "code",
   "execution_count": 23,
   "id": "593b1fc8",
   "metadata": {},
   "outputs": [
    {
     "name": "stdout",
     "output_type": "stream",
     "text": [
      "--- 0:07:26.021090 time elapsed ---\n"
     ]
    }
   ],
   "source": [
    "start_time = time.time()\n",
    "model_saga = LogisticRegression(solver ='saga',penalty='l2',max_iter= 3000)\n",
    "model_saga.fit(X_train,Y_train)\n",
    "\n",
    "print(\"--- %s time elapsed ---\" % str(timedelta(seconds=time.time() - start_time)))"
   ]
  },
  {
   "cell_type": "code",
   "execution_count": 24,
   "id": "a0c444a9",
   "metadata": {},
   "outputs": [],
   "source": [
    "y_pred = model_saga.predict(X_test)"
   ]
  },
  {
   "cell_type": "code",
   "execution_count": 27,
   "id": "a4a24a18",
   "metadata": {},
   "outputs": [],
   "source": [
    "class_report_saga = classification_report(Y_test, y_pred)\n",
    "accuracy_saga = accuracy_score(Y_test,y_pred)*100\n",
    "precision_saga = precision_score(Y_test,y_pred,average='micro')*100"
   ]
  },
  {
   "cell_type": "code",
   "execution_count": 28,
   "id": "f6749043",
   "metadata": {},
   "outputs": [
    {
     "name": "stdout",
     "output_type": "stream",
     "text": [
      "Logistic Model Evaluation- \"saga\":\n",
      "\n",
      "              precision    recall  f1-score   support\n",
      "\n",
      "           0       0.96      0.95      0.96      1033\n",
      "           1       0.93      0.98      0.95      1171\n",
      "           2       0.92      0.90      0.91      1044\n",
      "           3       0.90      0.89      0.89      1088\n",
      "           4       0.92      0.92      0.92      1018\n",
      "           5       0.86      0.86      0.86       949\n",
      "           6       0.95      0.96      0.95      1034\n",
      "           7       0.93      0.93      0.93      1100\n",
      "           8       0.88      0.85      0.86      1016\n",
      "           9       0.88      0.89      0.89      1047\n",
      "\n",
      "    accuracy                           0.91     10500\n",
      "   macro avg       0.91      0.91      0.91     10500\n",
      "weighted avg       0.91      0.91      0.91     10500\n",
      "\n",
      "\n",
      "Model Score is 0.9469\n",
      "Accuracy is : 91.3524%\n",
      "Precision is : 91.3524%\n"
     ]
    }
   ],
   "source": [
    "print('Logistic Model Evaluation- \"saga\":')\n",
    "print('')\n",
    "print(class_report_saga)\n",
    "print('')\n",
    "print(\"Model Score is %.4f\" % model_sag.score(X_train, Y_train))\n",
    "print(\"Accuracy is : {:.4f}%\".format(accuracy_saga) )\n",
    "print(\"Precision is : {:.4f}%\".format(precision_saga) )"
   ]
  },
  {
   "cell_type": "markdown",
   "id": "f7777f5d",
   "metadata": {},
   "source": [
    "##### 4.6 Store the model_saga"
   ]
  },
  {
   "cell_type": "code",
   "execution_count": 29,
   "id": "74e0968d",
   "metadata": {},
   "outputs": [],
   "source": [
    "pickle.dump(model_saga, open(\"Model_saga\", \"wb\"))"
   ]
  },
  {
   "cell_type": "markdown",
   "id": "f4ead8c6",
   "metadata": {},
   "source": [
    "##### 4.7 Train the model when solver =\"lbfgs\"¶"
   ]
  },
  {
   "cell_type": "code",
   "execution_count": 30,
   "id": "4babed6c",
   "metadata": {},
   "outputs": [
    {
     "name": "stdout",
     "output_type": "stream",
     "text": [
      "--- 0:00:36.704475 time elapsed ---\n"
     ]
    }
   ],
   "source": [
    "start_time = time.time()\n",
    "model_lbfgs = LogisticRegression(solver ='lbfgs',penalty='l2',max_iter= 3000)\n",
    "model_lbfgs.fit(X_train,Y_train)\n",
    "\n",
    "print(\"--- %s time elapsed ---\" % str(timedelta(seconds=time.time() - start_time)))"
   ]
  },
  {
   "cell_type": "code",
   "execution_count": 31,
   "id": "a7adc5c5",
   "metadata": {},
   "outputs": [],
   "source": [
    "y_pred = model_lbfgs.predict(X_test)"
   ]
  },
  {
   "cell_type": "code",
   "execution_count": 32,
   "id": "ced476be",
   "metadata": {},
   "outputs": [],
   "source": [
    "class_report_lbfgs = classification_report(Y_test, y_pred)\n",
    "accuracy_lbfgs = accuracy_score(Y_test,y_pred)*100\n",
    "precision_lbfgs = precision_score(Y_test,y_pred,average='micro')*100"
   ]
  },
  {
   "cell_type": "code",
   "execution_count": 34,
   "id": "2bc32d28",
   "metadata": {},
   "outputs": [
    {
     "name": "stdout",
     "output_type": "stream",
     "text": [
      "Logistic Model Evaluation- \"lbfgs\":\n",
      "\n",
      "              precision    recall  f1-score   support\n",
      "\n",
      "           0       0.96      0.95      0.96      1033\n",
      "           1       0.93      0.98      0.95      1171\n",
      "           2       0.91      0.90      0.91      1044\n",
      "           3       0.90      0.89      0.89      1088\n",
      "           4       0.92      0.92      0.92      1018\n",
      "           5       0.86      0.86      0.86       949\n",
      "           6       0.95      0.95      0.95      1034\n",
      "           7       0.93      0.93      0.93      1100\n",
      "           8       0.88      0.85      0.87      1016\n",
      "           9       0.88      0.89      0.89      1047\n",
      "\n",
      "    accuracy                           0.91     10500\n",
      "   macro avg       0.91      0.91      0.91     10500\n",
      "weighted avg       0.91      0.91      0.91     10500\n",
      "\n",
      "\n",
      "Model Score is 0.9469\n",
      "Accuracy is : 91.3429%\n",
      "Precision is : 91.3429%\n"
     ]
    }
   ],
   "source": [
    "print('Logistic Model Evaluation- \"lbfgs\":')\n",
    "print('')\n",
    "print(class_report_lbfgs)\n",
    "print('')\n",
    "print(\"Model Score is %.4f\" % model_sag.score(X_train, Y_train))\n",
    "print(\"Accuracy is : {:.4f}%\".format(accuracy_lbfgs) )\n",
    "print(\"Precision is : {:.4f}%\".format(precision_lbfgs) )"
   ]
  },
  {
   "cell_type": "markdown",
   "id": "823e801d",
   "metadata": {},
   "source": [
    "##### 4.8 Store the model_lbfgs"
   ]
  },
  {
   "cell_type": "code",
   "execution_count": 35,
   "id": "26958520",
   "metadata": {},
   "outputs": [],
   "source": [
    "pickle.dump(model_saga, open(\"Model_lbfgs\", \"wb\"))"
   ]
  },
  {
   "cell_type": "markdown",
   "id": "90587106",
   "metadata": {},
   "source": [
    "### How to evaluate the performance..."
   ]
  },
  {
   "cell_type": "markdown",
   "id": "0bf11046",
   "metadata": {},
   "source": [
    "#### To evaluate the model, we usually use **the accuracy** to evaluate the model's performance. \n",
    "\n",
    "In Logistic Regression Model, there are different parameters that will affect the model's accuracy and it's performance. One of the parameters is the \"solver\", there are five solvers in this model that we can choose to use, including ‘newton-cg’, ‘lbfgs’, ‘liblinear’, ‘sag’, ‘saga’ and the default setting is 'lbfgs'.\n",
    "In this exercise, since the label set consists of ten possible digits, therefore, we need to building a multi-class logisitc regression classifier.\n",
    "\n",
    "For multi-class problems in logistic regression model, only **‘newton-cg’, ‘sag’, ‘saga’ and ‘lbfgs’** handle multinomial loss. And that's the reason why in the above model training, the parameters that we choose for solver are ‘newton-cg’,‘sag’, ‘saga’ and ‘lbfgs’.\n",
    "\n",
    "After training these four different solver, we can tell from the results that when solver is \"saga\", **it will have the higher accuracy than the others.** Even it's training time is the longest, it has the best accuracy. \n",
    "\n",
    "#### Therefore, in the following prediction, we will use the model that the parameter of solver is saga."
   ]
  },
  {
   "cell_type": "markdown",
   "id": "eb1dd907",
   "metadata": {},
   "source": [
    "## 5. Predict "
   ]
  },
  {
   "cell_type": "markdown",
   "id": "0c3dae72",
   "metadata": {},
   "source": [
    "##### 5.1 Load the Model_saga"
   ]
  },
  {
   "cell_type": "code",
   "execution_count": 36,
   "id": "649c0f5f",
   "metadata": {},
   "outputs": [],
   "source": [
    "#Load the Model_saga\n",
    "LogisticReg_Model=pickle.load(open(\"Model_saga\", 'rb'))"
   ]
  },
  {
   "cell_type": "markdown",
   "id": "86281a8e",
   "metadata": {},
   "source": [
    "##### 5.2 Convert the test.csv dataframe into array"
   ]
  },
  {
   "cell_type": "code",
   "execution_count": 37,
   "id": "93362fe3",
   "metadata": {},
   "outputs": [],
   "source": [
    "test_matrix=np.array(test)"
   ]
  },
  {
   "cell_type": "markdown",
   "id": "9c93e837",
   "metadata": {},
   "source": [
    "##### 5.3 Predict Model_saga"
   ]
  },
  {
   "cell_type": "code",
   "execution_count": 38,
   "id": "597bbca5",
   "metadata": {},
   "outputs": [],
   "source": [
    "test_pred_LogisticReg=LogisticReg_Model.predict(test_matrix)"
   ]
  },
  {
   "cell_type": "code",
   "execution_count": 39,
   "id": "b25d30ff",
   "metadata": {},
   "outputs": [],
   "source": [
    "#Convert the array into dataframe\n",
    "pred_DF= pd.DataFrame({'ImageId':np.arange(len(test)),'Label':test_pred_LogisticReg})"
   ]
  },
  {
   "cell_type": "code",
   "execution_count": 41,
   "id": "cc34497b",
   "metadata": {},
   "outputs": [],
   "source": [
    "test['Label'] = test_pred_LogisticReg\n",
    "# print (test.head(5))"
   ]
  },
  {
   "cell_type": "markdown",
   "id": "612c8c8a",
   "metadata": {},
   "source": [
    "## 6. Submission"
   ]
  },
  {
   "cell_type": "code",
   "execution_count": 42,
   "id": "1adcdba6",
   "metadata": {},
   "outputs": [
    {
     "name": "stdout",
     "output_type": "stream",
     "text": [
      "The Final Result for the test file prediction:\n",
      "      ImageId  Label\n",
      "0           0      7\n",
      "1           1      2\n",
      "2           2      1\n",
      "3           3      0\n",
      "4           4      4\n",
      "...       ...    ...\n",
      "9995     9995      2\n",
      "9996     9996      3\n",
      "9997     9997      4\n",
      "9998     9998      5\n",
      "9999     9999      6\n",
      "\n",
      "[10000 rows x 2 columns]\n"
     ]
    }
   ],
   "source": [
    "print(\"The Final Result for the test file prediction:\")\n",
    "print(pred_DF)"
   ]
  },
  {
   "cell_type": "code",
   "execution_count": 43,
   "id": "6292a84f",
   "metadata": {},
   "outputs": [],
   "source": [
    "pred_DF.to_csv('hw2_submission.csv', index=False)"
   ]
  },
  {
   "cell_type": "markdown",
   "id": "6ffcc80a",
   "metadata": {},
   "source": [
    "## 7. Compare to kNN MNIST classifier model "
   ]
  },
  {
   "attachments": {},
   "cell_type": "markdown",
   "id": "8a664232",
   "metadata": {},
   "source": [
    "**The reason why we need to split the data and preprocess the data again is because the way we preprocess in the Logistic regression model is different than the KNN model.**\n",
    "1. In Logisitc Regression Model, the preprocess is using the \"Normalization\" which we divide each element in a sigle data grid by 255.\n",
    "2. In KNN Model, the preprocess is using the \"StandardScaler\".\n",
    "\n",
    "**Therefore, to get the precise accuracy that we train in the best KNN model, we need to use the same way of preprocess which is \"StandardScaler\" to predict the data and calculate the accuracy.**"
   ]
  },
  {
   "cell_type": "markdown",
   "id": "5449ccb6",
   "metadata": {},
   "source": [
    "##### 7.1 Load the KNN Best Model"
   ]
  },
  {
   "cell_type": "code",
   "execution_count": 44,
   "id": "43e9a228",
   "metadata": {},
   "outputs": [],
   "source": [
    "KNN_Model=pickle.load(open(\"Best_model\", 'rb'))"
   ]
  },
  {
   "cell_type": "markdown",
   "id": "2c9a529b",
   "metadata": {},
   "source": [
    "##### 7.2 Split data into two sets: (1) Train data set (2) Test data set"
   ]
  },
  {
   "cell_type": "code",
   "execution_count": 45,
   "id": "a23f3c97",
   "metadata": {},
   "outputs": [],
   "source": [
    "X_train_KNN,X_test_KNN,Y_train_KNN,Y_test_KNN = train_test_split(X,Y,test_size=0.25,random_state=42, stratify=Y)"
   ]
  },
  {
   "cell_type": "markdown",
   "id": "0c2fed5f",
   "metadata": {},
   "source": [
    "##### 7.3 Data Preprocessing- StandardScaler"
   ]
  },
  {
   "cell_type": "code",
   "execution_count": 46,
   "id": "310f86bf",
   "metadata": {},
   "outputs": [],
   "source": [
    "sc_X = StandardScaler()\n",
    "\n",
    "sc_X.fit(X_train_KNN)\n",
    "X_train_std=sc_X.transform(X_train_KNN)\n",
    "X_test_std=sc_X.transform(X_test_KNN)"
   ]
  },
  {
   "cell_type": "markdown",
   "id": "de5bf514",
   "metadata": {},
   "source": [
    "##### 7.4 Predict using KNN Model"
   ]
  },
  {
   "cell_type": "code",
   "execution_count": 47,
   "id": "81e4af83",
   "metadata": {},
   "outputs": [],
   "source": [
    "y_pred_KNN = KNN_Model.predict(X_test_std)"
   ]
  },
  {
   "cell_type": "code",
   "execution_count": 48,
   "id": "fa363c2b",
   "metadata": {},
   "outputs": [],
   "source": [
    "class_report = classification_report(Y_test_KNN, y_pred_KNN)\n",
    "accuracy = accuracy_score(Y_test_KNN,y_pred_KNN)*100\n",
    "precision = precision_score(Y_test_KNN,y_pred_KNN,average='micro')*100"
   ]
  },
  {
   "cell_type": "code",
   "execution_count": 49,
   "id": "bf23e362",
   "metadata": {},
   "outputs": [
    {
     "name": "stdout",
     "output_type": "stream",
     "text": [
      "KNN Model Evaluation:\n",
      "\n",
      "              precision    recall  f1-score   support\n",
      "\n",
      "           0       0.96      0.98      0.97      1033\n",
      "           1       0.95      0.99      0.97      1171\n",
      "           2       0.95      0.94      0.94      1044\n",
      "           3       0.91      0.93      0.92      1088\n",
      "           4       0.95      0.92      0.93      1018\n",
      "           5       0.92      0.91      0.92       949\n",
      "           6       0.95      0.98      0.96      1034\n",
      "           7       0.93      0.93      0.93      1100\n",
      "           8       0.97      0.87      0.92      1016\n",
      "           9       0.90      0.93      0.92      1047\n",
      "\n",
      "    accuracy                           0.94     10500\n",
      "   macro avg       0.94      0.94      0.94     10500\n",
      "weighted avg       0.94      0.94      0.94     10500\n",
      "\n",
      "\n",
      "Model Score is 0.8614\n",
      "Accuracy is : 93.9333%\n",
      "Precision is : 93.9333%\n"
     ]
    }
   ],
   "source": [
    "print('KNN Model Evaluation:')\n",
    "print('')\n",
    "print(class_report)\n",
    "print('')\n",
    "print(\"Model Score is %.4f\" % KNN_Model.score(X_train_KNN, Y_train_KNN))\n",
    "print(\"Accuracy is : {:.4f}%\".format(accuracy) )\n",
    "print(\"Precision is : {:.4f}%\".format(precision) )"
   ]
  },
  {
   "cell_type": "markdown",
   "id": "3979a05a",
   "metadata": {},
   "source": [
    "##### 7.5 Predicting using Logistic Model -saga"
   ]
  },
  {
   "cell_type": "code",
   "execution_count": 50,
   "id": "ab175c48",
   "metadata": {},
   "outputs": [],
   "source": [
    "y_pred = model_saga.predict(X_test)"
   ]
  },
  {
   "cell_type": "code",
   "execution_count": 51,
   "id": "e444a096",
   "metadata": {},
   "outputs": [],
   "source": [
    "class_report_saga = classification_report(Y_test, y_pred)\n",
    "accuracy_saga = accuracy_score(Y_test,y_pred)*100\n",
    "precision_saga = precision_score(Y_test,y_pred,average='micro')*100"
   ]
  },
  {
   "cell_type": "code",
   "execution_count": 53,
   "id": "fb646e37",
   "metadata": {},
   "outputs": [
    {
     "name": "stdout",
     "output_type": "stream",
     "text": [
      "Logistic Model Evaluation- \"saga\":\n",
      "\n",
      "              precision    recall  f1-score   support\n",
      "\n",
      "           0       0.96      0.95      0.96      1033\n",
      "           1       0.93      0.98      0.95      1171\n",
      "           2       0.92      0.90      0.91      1044\n",
      "           3       0.90      0.89      0.89      1088\n",
      "           4       0.92      0.92      0.92      1018\n",
      "           5       0.86      0.86      0.86       949\n",
      "           6       0.95      0.96      0.95      1034\n",
      "           7       0.93      0.93      0.93      1100\n",
      "           8       0.88      0.85      0.86      1016\n",
      "           9       0.88      0.89      0.89      1047\n",
      "\n",
      "    accuracy                           0.91     10500\n",
      "   macro avg       0.91      0.91      0.91     10500\n",
      "weighted avg       0.91      0.91      0.91     10500\n",
      "\n",
      "\n",
      "Model Score is 0.9469\n",
      "Accuracy is : 91.3524%\n",
      "Precision is : 91.3524%\n"
     ]
    }
   ],
   "source": [
    "print('Logistic Model Evaluation- \"saga\":')\n",
    "print('')\n",
    "print(class_report_saga)\n",
    "print('')\n",
    "print(\"Model Score is %.4f\" % model_sag.score(X_train, Y_train))\n",
    "print(\"Accuracy is : {:.4f}%\".format(accuracy_saga) )\n",
    "print(\"Precision is : {:.4f}%\".format(precision_saga) )"
   ]
  },
  {
   "cell_type": "markdown",
   "id": "81bd04bb",
   "metadata": {},
   "source": [
    "### Conclude the comparison of KNN model and Logistic Regression model..."
   ]
  },
  {
   "cell_type": "markdown",
   "id": "3216cfe3",
   "metadata": {},
   "source": [
    "#### KNN model has higher accuracy than Logistic Regressoon model\n",
    "1. The Accuracy of the KNN model is \"93.9333 %\" \n",
    "2. The Accuracy of the Logistic Regression model is \"91.3524 %\"\n",
    "\n",
    "#### Therefore, from the above result we can tell that KNN model has higher performance than Logistic Regressoon model."
   ]
  },
  {
   "cell_type": "code",
   "execution_count": null,
   "id": "1e5aabd6",
   "metadata": {},
   "outputs": [],
   "source": []
  }
 ],
 "metadata": {
  "kernelspec": {
   "display_name": "Python 3 (ipykernel)",
   "language": "python",
   "name": "python3"
  },
  "language_info": {
   "codemirror_mode": {
    "name": "ipython",
    "version": 3
   },
   "file_extension": ".py",
   "mimetype": "text/x-python",
   "name": "python",
   "nbconvert_exporter": "python",
   "pygments_lexer": "ipython3",
   "version": "3.9.7"
  }
 },
 "nbformat": 4,
 "nbformat_minor": 5
}
